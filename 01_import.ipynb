{
 "cells": [
  {
   "cell_type": "code",
   "execution_count": 2,
   "id": "d913c81f-172e-4cd3-9e63-4f559b0ad168",
   "metadata": {},
   "outputs": [],
   "source": [
    "import pandas as pd\n",
    "import numpy as np\n",
    "from matplotlib import pyplot as plt\n",
    "from opensignalsreader import OpenSignalsReader\n",
    "import os"
   ]
  },
  {
   "cell_type": "code",
   "execution_count": 20,
   "id": "076aa7cb-b97d-4b95-b0ea-acd28441591a",
   "metadata": {},
   "outputs": [
    {
     "ename": "IndentationError",
     "evalue": "unindent does not match any outer indentation level (<string>, line 29)",
     "output_type": "error",
     "traceback": [
      "\u001b[0;36m  File \u001b[0;32m<string>:29\u001b[0;36m\u001b[0m\n\u001b[0;31m    samples = _check_input(samples, resolution)\u001b[0m\n\u001b[0m                                               ^\u001b[0m\n\u001b[0;31mIndentationError\u001b[0m\u001b[0;31m:\u001b[0m unindent does not match any outer indentation level\n"
     ]
    }
   ],
   "source": [
    "# Parameters\n",
    "sourceDataFolder = '/Users/erwin/Documents/ProjectPsychophysiologyData/source-data'\n",
    "rawDataFolder = '/Users/erwin/Documents/ProjectPsychophysiologyData/raw-data/'\n",
    "participants = ['sub-1', 'sub-2', 'sub-3']\n",
    "tasks = ['baseline', 'spiderhand', 'spidervideo']\n",
    "\n",
    "# Ensure output directory exists\n",
    "if not os.path.exists(rawDataFolder):\n",
    "    os.makedirs(rawDataFolder)\n",
    "\n",
    "for pi in participants:\n",
    "    for ti in tasks:\n",
    "        \n",
    "            # assemble file name \n",
    "            filename = sourceDataFolder + '/' + pi + '_' + ti + '.txt'\n",
    "            \n",
    "            # Convert all other files \n",
    "            acq = OpenSignalsReader(filename, show=True)\n",
    "\n",
    "        \n",
    "            \n",
    "            # Access the processed ECG / EDA signal and print the first 5 elements\n",
    "            ecg_signal = acq.signal(1) \n",
    "            print(ecg_signal[:5]) \n",
    "            eda_signal = acq.signal(2)\n",
    "            print(eda_signal[:5]) \n",
    "\n",
    "        \t# Check input\n",
    "\tsamples = _check_input(samples, resolution)\n",
    "\n",
    "\t# Compute & check input\n",
    "\teda_samples = np.asarray([((float(s) / (2 ** resolution)) * 3.3) / 0.132 for s in samples])\n",
    "\t_check_ranges(eda_samples, '_EDA')\n",
    "\treturn _check_ranges\n",
    "\n",
    "            ## Save data in a .csv format \n",
    "            output_filename_ecg = rawDataFolder + '/' + pi + '_' + ti + '_ecg.csv'\n",
    "            output_filename_eda = rawDataFolder + '/' + pi + '_' + ti + '_eda.csv'\n",
    "        \n",
    "            # Save the NumPy array to a CSV file\n",
    "            np.savetxt(output_filename_ecg, ecg_signal, delimiter=',', header='ECG')\n",
    "            np.savetxt(output_filename_eda, eda_signal, delimiter=',', header='EDA')\n",
    "        \n",
    "            print(f\"Wrote files {output_filename_ecg} and {output_filename_eda}\")"
   ]
  },
  {
   "cell_type": "code",
   "execution_count": null,
   "id": "be48c209-f2d8-461f-937e-6a49825775c0",
   "metadata": {},
   "outputs": [],
   "source": []
  }
 ],
 "metadata": {
  "kernelspec": {
   "display_name": "Python 3 (ipykernel)",
   "language": "python",
   "name": "python3"
  },
  "language_info": {
   "codemirror_mode": {
    "name": "ipython",
    "version": 3
   },
   "file_extension": ".py",
   "mimetype": "text/x-python",
   "name": "python",
   "nbconvert_exporter": "python",
   "pygments_lexer": "ipython3",
   "version": "3.13.0"
  }
 },
 "nbformat": 4,
 "nbformat_minor": 5
}
