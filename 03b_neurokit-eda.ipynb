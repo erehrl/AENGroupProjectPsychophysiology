{
 "cells": [
  {
   "cell_type": "code",
   "execution_count": 3,
   "id": "e1501e6f-f228-4ef3-9b00-a64979d65210",
   "metadata": {},
   "outputs": [
    {
     "name": "stdout",
     "output_type": "stream",
     "text": [
      "Processing: /Users/erwin/Documents/ProjectPsychophysiologyData/raw-data/sub-1_baseline_eda.csv\n"
     ]
    },
    {
     "name": "stderr",
     "output_type": "stream",
     "text": [
      "/Library/Frameworks/Python.framework/Versions/3.13/lib/python3.13/site-packages/neurokit2/eda/eda_plot.py:50: NeuroKitWarning: 'info' dict not provided. Some information might be missing. Sampling rate will be set to 1000 Hz.\n",
      "  warn(\n"
     ]
    },
    {
     "name": "stdout",
     "output_type": "stream",
     "text": [
      "Saved figure to /Users/erwin/Documents/ProjectPsychophysiologyData/results//sub-1_baseline_eda_nk.png\n",
      "   SCR_Peaks_N  SCR_Peaks_Amplitude_Mean  EDA_Tonic_SD  EDA_Sympathetic  \\\n",
      "0         10.0                  2.621797     34.453445         4.494259   \n",
      "\n",
      "   EDA_SympatheticN  EDA_Autocorrelation  \n",
      "0          0.000111             0.864189  \n",
      "Processing: /Users/erwin/Documents/ProjectPsychophysiologyData/raw-data/sub-1_spiderhand_eda.csv\n"
     ]
    },
    {
     "name": "stderr",
     "output_type": "stream",
     "text": [
      "/Library/Frameworks/Python.framework/Versions/3.13/lib/python3.13/site-packages/neurokit2/eda/eda_plot.py:50: NeuroKitWarning: 'info' dict not provided. Some information might be missing. Sampling rate will be set to 1000 Hz.\n",
      "  warn(\n"
     ]
    },
    {
     "name": "stdout",
     "output_type": "stream",
     "text": [
      "Saved figure to /Users/erwin/Documents/ProjectPsychophysiologyData/results//sub-1_spiderhand_eda_nk.png\n",
      "   SCR_Peaks_N  SCR_Peaks_Amplitude_Mean  EDA_Tonic_SD  EDA_Sympathetic  \\\n",
      "0         16.0                 51.280746     78.151583       379.047514   \n",
      "\n",
      "   EDA_SympatheticN  EDA_Autocorrelation  \n",
      "0          0.001313             0.819143  \n",
      "Processing: /Users/erwin/Documents/ProjectPsychophysiologyData/raw-data/sub-1_spidervideo_eda.csv\n"
     ]
    },
    {
     "name": "stderr",
     "output_type": "stream",
     "text": [
      "/Library/Frameworks/Python.framework/Versions/3.13/lib/python3.13/site-packages/neurokit2/eda/eda_plot.py:50: NeuroKitWarning: 'info' dict not provided. Some information might be missing. Sampling rate will be set to 1000 Hz.\n",
      "  warn(\n"
     ]
    },
    {
     "name": "stdout",
     "output_type": "stream",
     "text": [
      "Saved figure to /Users/erwin/Documents/ProjectPsychophysiologyData/results//sub-1_spidervideo_eda_nk.png\n",
      "   SCR_Peaks_N  SCR_Peaks_Amplitude_Mean  EDA_Tonic_SD  EDA_Sympathetic  \\\n",
      "0         14.0                 59.987188    162.382167       492.450999   \n",
      "\n",
      "   EDA_SympatheticN  EDA_Autocorrelation  \n",
      "0          0.005456              0.93385  \n",
      "Processing: /Users/erwin/Documents/ProjectPsychophysiologyData/raw-data/sub-2_baseline_eda.csv\n"
     ]
    },
    {
     "name": "stderr",
     "output_type": "stream",
     "text": [
      "/Library/Frameworks/Python.framework/Versions/3.13/lib/python3.13/site-packages/neurokit2/eda/eda_plot.py:50: NeuroKitWarning: 'info' dict not provided. Some information might be missing. Sampling rate will be set to 1000 Hz.\n",
      "  warn(\n"
     ]
    },
    {
     "name": "stdout",
     "output_type": "stream",
     "text": [
      "Saved figure to /Users/erwin/Documents/ProjectPsychophysiologyData/results//sub-2_baseline_eda_nk.png\n",
      "   SCR_Peaks_N  SCR_Peaks_Amplitude_Mean  EDA_Tonic_SD  EDA_Sympathetic  \\\n",
      "0         22.0                 11.720974     46.492271        91.661268   \n",
      "\n",
      "   EDA_SympatheticN  EDA_Autocorrelation  \n",
      "0           0.00075             0.864598  \n",
      "Processing: /Users/erwin/Documents/ProjectPsychophysiologyData/raw-data/sub-2_spiderhand_eda.csv\n"
     ]
    },
    {
     "name": "stderr",
     "output_type": "stream",
     "text": [
      "/Library/Frameworks/Python.framework/Versions/3.13/lib/python3.13/site-packages/neurokit2/eda/eda_plot.py:50: NeuroKitWarning: 'info' dict not provided. Some information might be missing. Sampling rate will be set to 1000 Hz.\n",
      "  warn(\n"
     ]
    },
    {
     "name": "stdout",
     "output_type": "stream",
     "text": [
      "Saved figure to /Users/erwin/Documents/ProjectPsychophysiologyData/results//sub-2_spiderhand_eda_nk.png\n",
      "   SCR_Peaks_N  SCR_Peaks_Amplitude_Mean  EDA_Tonic_SD  EDA_Sympathetic  \\\n",
      "0         22.0                 28.772146     35.574552          96.9064   \n",
      "\n",
      "   EDA_SympatheticN  EDA_Autocorrelation  \n",
      "0          0.000321             0.717274  \n",
      "Processing: /Users/erwin/Documents/ProjectPsychophysiologyData/raw-data/sub-2_spidervideo_eda.csv\n"
     ]
    },
    {
     "name": "stderr",
     "output_type": "stream",
     "text": [
      "/Library/Frameworks/Python.framework/Versions/3.13/lib/python3.13/site-packages/neurokit2/eda/eda_plot.py:50: NeuroKitWarning: 'info' dict not provided. Some information might be missing. Sampling rate will be set to 1000 Hz.\n",
      "  warn(\n"
     ]
    },
    {
     "name": "stdout",
     "output_type": "stream",
     "text": [
      "Saved figure to /Users/erwin/Documents/ProjectPsychophysiologyData/results//sub-2_spidervideo_eda_nk.png\n",
      "   SCR_Peaks_N  SCR_Peaks_Amplitude_Mean  EDA_Tonic_SD  EDA_Sympathetic  \\\n",
      "0         25.0                 18.891831     38.111097        45.978855   \n",
      "\n",
      "   EDA_SympatheticN  EDA_Autocorrelation  \n",
      "0          0.000154             0.856977  \n",
      "Processing: /Users/erwin/Documents/ProjectPsychophysiologyData/raw-data/sub-3_baseline_eda.csv\n"
     ]
    },
    {
     "name": "stderr",
     "output_type": "stream",
     "text": [
      "/Library/Frameworks/Python.framework/Versions/3.13/lib/python3.13/site-packages/neurokit2/eda/eda_plot.py:50: NeuroKitWarning: 'info' dict not provided. Some information might be missing. Sampling rate will be set to 1000 Hz.\n",
      "  warn(\n"
     ]
    },
    {
     "name": "stdout",
     "output_type": "stream",
     "text": [
      "Saved figure to /Users/erwin/Documents/ProjectPsychophysiologyData/results//sub-3_baseline_eda_nk.png\n",
      "   SCR_Peaks_N  SCR_Peaks_Amplitude_Mean  EDA_Tonic_SD  EDA_Sympathetic  \\\n",
      "0         72.0                   0.39166      80.44243         0.903326   \n",
      "\n",
      "   EDA_SympatheticN  EDA_Autocorrelation  \n",
      "0          0.000005               0.9434  \n",
      "Processing: /Users/erwin/Documents/ProjectPsychophysiologyData/raw-data/sub-3_spiderhand_eda.csv\n"
     ]
    },
    {
     "name": "stderr",
     "output_type": "stream",
     "text": [
      "/Library/Frameworks/Python.framework/Versions/3.13/lib/python3.13/site-packages/neurokit2/eda/eda_plot.py:50: NeuroKitWarning: 'info' dict not provided. Some information might be missing. Sampling rate will be set to 1000 Hz.\n",
      "  warn(\n"
     ]
    },
    {
     "name": "stdout",
     "output_type": "stream",
     "text": [
      "Saved figure to /Users/erwin/Documents/ProjectPsychophysiologyData/results//sub-3_spiderhand_eda_nk.png\n",
      "   SCR_Peaks_N  SCR_Peaks_Amplitude_Mean  EDA_Tonic_SD  EDA_Sympathetic  \\\n",
      "0          6.0                 11.545122    130.095994         2.118816   \n",
      "\n",
      "   EDA_SympatheticN  EDA_Autocorrelation  \n",
      "0          0.000008             0.935622  \n",
      "Processing: /Users/erwin/Documents/ProjectPsychophysiologyData/raw-data/sub-3_spidervideo_eda.csv\n"
     ]
    },
    {
     "name": "stderr",
     "output_type": "stream",
     "text": [
      "/Library/Frameworks/Python.framework/Versions/3.13/lib/python3.13/site-packages/neurokit2/eda/eda_plot.py:50: NeuroKitWarning: 'info' dict not provided. Some information might be missing. Sampling rate will be set to 1000 Hz.\n",
      "  warn(\n"
     ]
    },
    {
     "name": "stdout",
     "output_type": "stream",
     "text": [
      "Saved figure to /Users/erwin/Documents/ProjectPsychophysiologyData/results//sub-3_spidervideo_eda_nk.png\n",
      "   SCR_Peaks_N  SCR_Peaks_Amplitude_Mean  EDA_Tonic_SD  EDA_Sympathetic  \\\n",
      "0         20.0                 22.435958     38.467298        62.709862   \n",
      "\n",
      "   EDA_SympatheticN  EDA_Autocorrelation  \n",
      "0          0.000306             0.841683  \n",
      "Saved results to /Users/erwin/Documents/ProjectPsychophysiologyData/results/eda_results.csv\n"
     ]
    }
   ],
   "source": [
    "import neurokit2 as nk\n",
    "import pandas as pd\n",
    "import matplotlib.pyplot as plt\n",
    "import matplotlib as matplotlib\n",
    "import numpy as np\n",
    "import os as os\n",
    "\n",
    "from neurokit2.misc import NeuroKitWarning\n",
    "from neurokit2.signal.signal_rate import _signal_rate_plot\n",
    "from neurokit2.ecg.ecg_peaks import _ecg_peaks_plot\n",
    "from neurokit2.ecg.ecg_segment import ecg_segment\n",
    "\n",
    "# Paths to folders\n",
    "raw_data_folder = '/Users/erwin/Documents/ProjectPsychophysiologyData/raw-data/'\n",
    "results_folder = '/Users/erwin/Documents/ProjectPsychophysiologyData/results/'\n",
    "\n",
    "# Parameters\n",
    "participants = ['sub-1', 'sub-2', 'sub-3']\n",
    "tasks = ['baseline', 'spiderhand', 'spidervideo']\n",
    "\n",
    "all_results = []\n",
    "\n",
    "# Loop through participants and tasks\n",
    "for pi in participants:\n",
    "    for ti in tasks:\n",
    "        filename = os.path.join(raw_data_folder, f\"{pi}_{ti}_eda.csv\")\n",
    "        print(f\"Processing: {filename}\")\n",
    "\n",
    "        if not os.path.exists(filename):\n",
    "            print(f\"File not found: {filename}\")\n",
    "            continue  # Skip to the next file if not found\n",
    "\n",
    "        # Read in the data in respective conditions\n",
    "        subdata = pd.read_csv(filename, header=None, names=['EDA'], skiprows=1)\n",
    "\n",
    "        # Extract the single column as a vector\n",
    "        eda_data = subdata['EDA'].values\n",
    "\n",
    "        # Process the full time window\n",
    "        signals_full, info = nk.eda_process(eda_data, sampling_rate=1000)\n",
    "\n",
    "        # Plot signals\n",
    "        nk.eda_plot(signals_full)\n",
    "        \n",
    "        # Save the current figure to a file\n",
    "        figure_filename = results_folder + f'/{pi}_{ti}_eda_nk.png'\n",
    "        plt.savefig(figure_filename, bbox_inches='tight', pad_inches=0.1)  # Save the current active plot as a PNG file\n",
    "        print(f\"Saved figure to {figure_filename}\")\n",
    "\n",
    "        # Close the plot to free memory after saving\n",
    "        plt.close()\n",
    "\n",
    "        # Process full-length interval-related data\n",
    "        results = nk.eda_intervalrelated(signals_full, sampling_rate=1000)\n",
    "        print(results)\n",
    "\n",
    "        # Check if results is a valid DataFrame\n",
    "        if isinstance(results, pd.DataFrame):\n",
    "            # Append the results to the list with participant and condition as metadata\n",
    "            results['Participant'] = pi\n",
    "            results['Condition'] = ti\n",
    "            all_results.append(results)\n",
    "        else:\n",
    "            print(f\"Results for {pi} {ti} are not in DataFrame format.\")\n",
    "\n",
    "# Concatenate all the results into a single DataFrame\n",
    "if all_results:\n",
    "    final_results = pd.concat(all_results, ignore_index=True)\n",
    "\n",
    "    # Save the concatenated DataFrame to a CSV file\n",
    "    output_filename = results_folder + 'eda_results.csv'\n",
    "    final_results.to_csv(output_filename, index=False)\n",
    "\n",
    "    print(f\"Saved results to {output_filename}\")\n",
    "else:\n",
    "    print(\"No valid results to save.\")\n"
   ]
  },
  {
   "cell_type": "code",
   "execution_count": null,
   "id": "e538ba76-c9c4-4aa2-801a-f69dda43fb19",
   "metadata": {},
   "outputs": [],
   "source": []
  }
 ],
 "metadata": {
  "kernelspec": {
   "display_name": "Python 3 (ipykernel)",
   "language": "python",
   "name": "python3"
  },
  "language_info": {
   "codemirror_mode": {
    "name": "ipython",
    "version": 3
   },
   "file_extension": ".py",
   "mimetype": "text/x-python",
   "name": "python",
   "nbconvert_exporter": "python",
   "pygments_lexer": "ipython3",
   "version": "3.13.0"
  }
 },
 "nbformat": 4,
 "nbformat_minor": 5
}
